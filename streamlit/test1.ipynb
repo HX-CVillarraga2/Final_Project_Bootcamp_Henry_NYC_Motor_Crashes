{
 "cells": [
  {
   "cell_type": "code",
   "execution_count": 1,
   "metadata": {},
   "outputs": [
    {
     "ename": "ModuleNotFoundError",
     "evalue": "No module named 'conection_databricks'",
     "output_type": "error",
     "traceback": [
      "\u001b[1;31m---------------------------------------------------------------------------\u001b[0m",
      "\u001b[1;31mModuleNotFoundError\u001b[0m                       Traceback (most recent call last)",
      "\u001b[1;32mUntitled-1.ipynb Cell 1\u001b[0m in \u001b[0;36m<cell line: 18>\u001b[1;34m()\u001b[0m\n\u001b[0;32m     <a href='vscode-notebook-cell:Untitled-1.ipynb?jupyter-notebook#ch0000000untitled?line=14'>15</a>\u001b[0m \u001b[39mimport\u001b[39;00m \u001b[39mplotly\u001b[39;00m\u001b[39m.\u001b[39;00m\u001b[39mgraph_objects\u001b[39;00m \u001b[39mas\u001b[39;00m \u001b[39mgo\u001b[39;00m\n\u001b[0;32m     <a href='vscode-notebook-cell:Untitled-1.ipynb?jupyter-notebook#ch0000000untitled?line=16'>17</a>\u001b[0m \u001b[39m## Carga DF\u001b[39;00m\n\u001b[1;32m---> <a href='vscode-notebook-cell:Untitled-1.ipynb?jupyter-notebook#ch0000000untitled?line=17'>18</a>\u001b[0m \u001b[39mfrom\u001b[39;00m \u001b[39mconection_databricks\u001b[39;00m \u001b[39mimport\u001b[39;00m tabla\n",
      "\u001b[1;31mModuleNotFoundError\u001b[0m: No module named 'conection_databricks'"
     ]
    }
   ],
   "source": [
    "\n",
    "from streamlit.proto import Image_pb2\n",
    "# Libraries\n",
    "import streamlit as st \n",
    "\n",
    "\n",
    "## Carga DF\n",
    "from conection_databricks import tabla\n",
    "\n",
    "\n",
    "\n",
    "\n",
    "# Empezamos con CSV.\n",
    "#@st.cache(allow_output_mutation=True)\n",
    "#def load_data():\n",
    "#file = '/content/drive/MyDrive/Colab Notebooks/Motor_Vehicle_Collisions-Crashes1.csv'\n",
    "#file = 'Motor_Vehicle_Collisions-Crashes1.csv'\n",
    "#df3 = pd.read_csv(file)\n",
    "#  return df3\n",
    "\n",
    "\n"
   ]
  },
  {
   "cell_type": "code",
   "execution_count": null,
   "metadata": {},
   "outputs": [],
   "source": [
    "\n",
    "def load_data():\n",
    "    df3 = tabla('gold','general_graph')\n",
    "    #df_semana_siniestros = tabla('gold','day_of_week')\n",
    "    #df_motivos_grouped_aux_pre = tabla('gold','df_motivos_grouped_aux_pre')\n",
    "    #df_motivos_grouped_aux_post =  tabla('gold','df_motivos_grouped_aux_post')\n",
    "    #df_motivos_grouped_aux_post_viernes = tabla('gold','df_motivos_grouped_aux_post_viernes')\n",
    "    #df_motivos_grouped_post_winter = tabla('gold','df_motivos_grouped_post_winter')\n",
    "    #df = df3\n",
    "    return df3, df_semana_siniestros, df_motivos_grouped_aux_pre, df_motivos_grouped_aux_post, df_motivos_grouped_aux_post_viernes, df_motivos_grouped_post_winter\n",
    "\n",
    "df3, df_semana_siniestros, df_motivos_grouped_aux_pre, df_motivos_grouped_aux_post, df_motivos_grouped_aux_post_viernes, df_motivos_grouped_post_winter = load_data()\n",
    "## cargar df3 sdfsdf"
   ]
  },
  {
   "cell_type": "code",
   "execution_count": null,
   "metadata": {},
   "outputs": [],
   "source": [
    "df3 = tabla('gold','general_graph')"
   ]
  }
 ],
 "metadata": {
  "kernelspec": {
   "display_name": "Python 3.9.13 64-bit (windows store)",
   "language": "python",
   "name": "python3"
  },
  "language_info": {
   "codemirror_mode": {
    "name": "ipython",
    "version": 3
   },
   "file_extension": ".py",
   "mimetype": "text/x-python",
   "name": "python",
   "nbconvert_exporter": "python",
   "pygments_lexer": "ipython3",
   "version": "3.9.13"
  },
  "orig_nbformat": 4,
  "vscode": {
   "interpreter": {
    "hash": "8df85b03b822b35864a3666ed6c3dfc79bc4b6782f95ad9293c573f382cd7db3"
   }
  }
 },
 "nbformat": 4,
 "nbformat_minor": 2
}
